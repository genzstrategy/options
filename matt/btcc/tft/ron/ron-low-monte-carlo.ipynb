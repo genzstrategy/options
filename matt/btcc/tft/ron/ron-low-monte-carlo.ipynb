{
 "cells": [
  {
   "cell_type": "markdown",
   "id": "63b0bfb3-96d6-48cc-b261-6ed2924aad11",
   "metadata": {},
   "source": [
    "# Ron Monte Carlo"
   ]
  },
  {
   "cell_type": "code",
   "execution_count": 1,
   "id": "0b9da0bc-1413-4bcd-8b51-9286d86fdd32",
   "metadata": {},
   "outputs": [
    {
     "name": "stderr",
     "output_type": "stream",
     "text": [
      "[*********************100%%**********************]  1 of 1 completed\n"
     ]
    }
   ],
   "source": [
    "import pandas as pd\n",
    "import yfinance as yf\n",
    "from datetime import datetime, timedelta\n",
    "import pytz\n",
    "\n",
    "frequency = \"1d\"\n",
    "start_time = (datetime.now(pytz.timezone('US/Pacific')) - timedelta(days=720)).strftime('%Y-%m-%d')\n",
    "end_time = (datetime.now(pytz.timezone('US/Pacific'))).strftime('%Y-%m-%d')\n",
    "\n",
    "tickers = [\"BTC-CAD\"]\n",
    "\n",
    "# Retrieve and concatenate historical data in one step\n",
    "df = pd.concat(\n",
    "    [yf.download(ticker, start=start_time, end=end_time, interval=frequency)[['High', 'Low']].add_prefix(f\"{ticker}_\") for ticker in tickers],\n",
    "    axis=1\n",
    ")"
   ]
  },
  {
   "cell_type": "code",
   "execution_count": 2,
   "id": "a5001d85-6388-4d46-b27b-36b8d6ae11d3",
   "metadata": {},
   "outputs": [
    {
     "data": {
      "text/html": [
       "<div>\n",
       "<style scoped>\n",
       "    .dataframe tbody tr th:only-of-type {\n",
       "        vertical-align: middle;\n",
       "    }\n",
       "\n",
       "    .dataframe tbody tr th {\n",
       "        vertical-align: top;\n",
       "    }\n",
       "\n",
       "    .dataframe thead th {\n",
       "        text-align: right;\n",
       "    }\n",
       "</style>\n",
       "<table border=\"1\" class=\"dataframe\">\n",
       "  <thead>\n",
       "    <tr style=\"text-align: right;\">\n",
       "      <th></th>\n",
       "      <th>BTC-CAD_High</th>\n",
       "      <th>BTC-CAD_Low</th>\n",
       "    </tr>\n",
       "    <tr>\n",
       "      <th>Date</th>\n",
       "      <th></th>\n",
       "      <th></th>\n",
       "    </tr>\n",
       "  </thead>\n",
       "  <tbody>\n",
       "    <tr>\n",
       "      <th>2022-03-26</th>\n",
       "      <td>55864.074219</td>\n",
       "      <td>55099.636719</td>\n",
       "    </tr>\n",
       "    <tr>\n",
       "      <th>2022-03-27</th>\n",
       "      <td>58470.886719</td>\n",
       "      <td>55704.371094</td>\n",
       "    </tr>\n",
       "    <tr>\n",
       "      <th>2022-03-28</th>\n",
       "      <td>60266.992188</td>\n",
       "      <td>58277.546875</td>\n",
       "    </tr>\n",
       "    <tr>\n",
       "      <th>2022-03-29</th>\n",
       "      <td>60092.164062</td>\n",
       "      <td>58977.898438</td>\n",
       "    </tr>\n",
       "    <tr>\n",
       "      <th>2022-03-30</th>\n",
       "      <td>59448.847656</td>\n",
       "      <td>58410.093750</td>\n",
       "    </tr>\n",
       "    <tr>\n",
       "      <th>...</th>\n",
       "      <td>...</td>\n",
       "      <td>...</td>\n",
       "    </tr>\n",
       "    <tr>\n",
       "      <th>2024-03-10</th>\n",
       "      <td>92897.476562</td>\n",
       "      <td>92058.867188</td>\n",
       "    </tr>\n",
       "    <tr>\n",
       "      <th>2024-03-11</th>\n",
       "      <td>94699.531250</td>\n",
       "      <td>92061.531250</td>\n",
       "    </tr>\n",
       "    <tr>\n",
       "      <th>2024-03-12</th>\n",
       "      <td>98254.414062</td>\n",
       "      <td>90573.062500</td>\n",
       "    </tr>\n",
       "    <tr>\n",
       "      <th>2024-03-13</th>\n",
       "      <td>98407.343750</td>\n",
       "      <td>92786.359375</td>\n",
       "    </tr>\n",
       "    <tr>\n",
       "      <th>2024-03-14</th>\n",
       "      <td>99332.539062</td>\n",
       "      <td>96237.250000</td>\n",
       "    </tr>\n",
       "  </tbody>\n",
       "</table>\n",
       "<p>720 rows × 2 columns</p>\n",
       "</div>"
      ],
      "text/plain": [
       "            BTC-CAD_High   BTC-CAD_Low\n",
       "Date                                  \n",
       "2022-03-26  55864.074219  55099.636719\n",
       "2022-03-27  58470.886719  55704.371094\n",
       "2022-03-28  60266.992188  58277.546875\n",
       "2022-03-29  60092.164062  58977.898438\n",
       "2022-03-30  59448.847656  58410.093750\n",
       "...                  ...           ...\n",
       "2024-03-10  92897.476562  92058.867188\n",
       "2024-03-11  94699.531250  92061.531250\n",
       "2024-03-12  98254.414062  90573.062500\n",
       "2024-03-13  98407.343750  92786.359375\n",
       "2024-03-14  99332.539062  96237.250000\n",
       "\n",
       "[720 rows x 2 columns]"
      ]
     },
     "execution_count": 2,
     "metadata": {},
     "output_type": "execute_result"
    }
   ],
   "source": [
    "# Add an assertion to ensure there are no NA values in the DataFrame\n",
    "assert df.isnull().sum().sum() == 0, \"DataFrame contains NA values\"\n",
    "\n",
    "df"
   ]
  },
  {
   "cell_type": "code",
   "execution_count": 3,
   "id": "2f8ae61c-85c4-4789-93c6-e473fb853a40",
   "metadata": {},
   "outputs": [],
   "source": [
    "import pandas as pd\n",
    "import numpy as np\n",
    "import torch\n",
    "import os\n",
    "\n",
    "from gluonts.dataset.common import ListDataset\n",
    "from gluonts.torch.model.tft import TemporalFusionTransformerEstimator\n",
    "from gluonts.transform.feature import MissingValueImputation\n",
    "\n",
    "torch.set_float32_matmul_precision('high')\n",
    "                                   \n",
    "# Assuming df is your DataFrame with the data\n",
    "target_column_low = 'BTC-CAD_Low' \n",
    "\n",
    "# Ensure the DataFrame's index is a datetime index and set the frequency explicitly if needed\n",
    "df.index = pd.to_datetime(df.index)\n",
    "freq = \"D\"  # Set the frequency of your data, e.g., 'D' for daily. Adjust as needed.\n",
    "df = df.asfreq(freq)\n",
    "\n",
    "# Define the prediction length\n",
    "prediction_length = 1  # Set your prediction length\n",
    "context_length = 60\n",
    "volatility_window = 60\n",
    "\n",
    "model_low = 'ron_low_huge.pth'\n",
    "\n",
    "predictor_low = torch.load(model_low)"
   ]
  },
  {
   "cell_type": "code",
   "execution_count": 4,
   "id": "8855197c-a175-4665-b4d5-ec2809738d10",
   "metadata": {},
   "outputs": [
    {
     "name": "stdout",
     "output_type": "stream",
     "text": [
      "Current Date and Time (US/Pacific): 2024-03-15 08:40:06 PDT\n",
      "Target Date and Time (US/Pacific): 2024-04-19 13:30:00 PDT\n",
      "CPU times: total: 1h 12s\n",
      "Wall time: 1h 26s\n"
     ]
    }
   ],
   "source": [
    "%%time\n",
    "\n",
    "\n",
    "# Modify perform_rolling_prediction to handle timezone-aware datetimes\n",
    "def perform_rolling_prediction(df, predictor, target_column, context_length, prediction_length, target_date, noise_mean, noise_std_dev, volatility_window=60):\n",
    "    rolling_predictions = []\n",
    "    prediction_dates = []\n",
    "\n",
    "    temp_df = df.copy()\n",
    "\n",
    "    if not temp_df.index.tz:\n",
    "        temp_df.index = temp_df.index.tz_localize(pytz.timezone('US/Pacific'))\n",
    "\n",
    "    current_max_date = temp_df.index.max()\n",
    "\n",
    "    if (target_date - current_max_date).days < 0:\n",
    "        return \"Target date is before the current latest date in the dataset.\"\n",
    "\n",
    "    start_prediction_date = current_max_date + pd.Timedelta(1, unit='D')\n",
    "    prediction_dates = pd.date_range(start=start_prediction_date, end=target_date, freq='D', tz=pytz.timezone('US/Pacific'))\n",
    "    \n",
    "    for i, prediction_date in enumerate(prediction_dates):\n",
    "        end_idx = len(temp_df) - prediction_length + i\n",
    "        test_data = ListDataset([{\"start\": temp_df.index[0], \"target\": temp_df[target_column][:end_idx].values}], freq='D')\n",
    "\n",
    "        forecast = next(predictor.predict(test_data))\n",
    "        predicted_value = forecast.quantile(0.5)[-1]\n",
    "        \n",
    "        # Calculate dynamic noise based on recent market volatility\n",
    "        recent_volatility = temp_df[target_column][-volatility_window:].pct_change().std()\n",
    "        noise = np.random.laplace(noise_mean, recent_volatility / np.sqrt(2))\n",
    "\n",
    "        predicted_value_with_noise = predicted_value + noise\n",
    "        rolling_predictions.append(predicted_value_with_noise)\n",
    "\n",
    "        new_row = pd.DataFrame({target_column: [predicted_value_with_noise]}, index=[prediction_date])\n",
    "        temp_df = pd.concat([temp_df, new_row])\n",
    "\n",
    "    return prediction_dates, rolling_predictions\n",
    "\n",
    "\n",
    "######## Monte-Carlo Simulation Function\n",
    "def monte_carlo_simulation_for_date(df, predictor_low, target_column_low, context_length, prediction_length, target_date, noise_mean_low, noise_std_dev_low, num_simulations=10):\n",
    "    low_simulations = []\n",
    "    for _ in range(num_simulations):\n",
    "        # Generate rolling predictions for low with noise\n",
    "        _, rolling_predictions_low = perform_rolling_prediction(df, predictor_low, target_column_low, context_length, prediction_length, target_date, noise_mean_low, noise_std_dev_low, volatility_window)\n",
    "\n",
    "        low_prediction = rolling_predictions_low[-1]\n",
    "\n",
    "        simulated_low_return = np.random.laplace(mean_low, std_dev_low)\n",
    "\n",
    "        simulated_low_price = low_prediction * (1 + simulated_low_return)\n",
    "\n",
    "        low_simulations.append(simulated_low_price)\n",
    "\n",
    "    # Calculate confidence intervals\n",
    "    low_lower_bound = np.percentile(low_simulations, 2.5)\n",
    "    low_upper_bound = np.percentile(low_simulations, 97.5)\n",
    "\n",
    "    return np.mean(low_simulations), low_lower_bound, low_upper_bound\n",
    "\n",
    "\n",
    "# Function to perform Monte Carlo simulation for each date up to target date\n",
    "def monte_carlo_simulation_for_range(df, predictor_low, target_column_low, context_length, prediction_length, current_date, target_date, noise_mean_low, noise_std_dev_low, num_simulations=10):\n",
    "    simulation_results = []\n",
    "    for single_date in pd.date_range(start=current_date, end=target_date, freq='D'):\n",
    "        mean, lower_ci, upper_ci = monte_carlo_simulation_for_date(\n",
    "            df, predictor_low, target_column_low, context_length, prediction_length, single_date, noise_mean_low, noise_std_dev_low, num_simulations\n",
    "        )\n",
    "        simulation_results.append({'Date': single_date, 'Mean': mean, '95% CI Low': lower_ci, '95% CI High': upper_ci})\n",
    "    \n",
    "    return pd.DataFrame(simulation_results)\n",
    "\n",
    "\n",
    "\n",
    "\n",
    "################## DATE #################\n",
    "(current_date) = datetime.now(pytz.timezone('US/Pacific'))\n",
    "target_date = pd.Timestamp('2024-04-19-13:30').tz_localize(pytz.timezone('US/Pacific'))\n",
    "################## DATE #################\n",
    "\n",
    "\n",
    "\n",
    "\n",
    "# Formatting dates for better readability\n",
    "formatted_current_date = current_date.strftime('%Y-%m-%d %H:%M:%S %Z')\n",
    "formatted_target_date = target_date.strftime('%Y-%m-%d %H:%M:%S %Z')\n",
    "\n",
    "# Improved print statement\n",
    "print(f\"Current Date and Time (US/Pacific): {formatted_current_date}\")\n",
    "print(f\"Target Date and Time (US/Pacific): {formatted_target_date}\")\n",
    "\n",
    "# Calculate daily returns for High and Low\n",
    "df['BTC-CAD_Low_Return'] = df['BTC-CAD_Low'].pct_change()\n",
    "\n",
    "# Calculate the mean and standard deviation of daily returns\n",
    "mean_low = df['BTC-CAD_Low_Return'].mean()\n",
    "std_dev_low = df['BTC-CAD_Low_Return'].std()\n",
    "\n",
    "# Ensure both dates are either timezone-aware or timezone-naive\n",
    "current_date_naive = current_date.replace(tzinfo=None)  # Convert to naive datetime\n",
    "target_date_naive = target_date.tz_localize(None)  # Convert to naive Timestamp if it's timezone-aware\n",
    "\n",
    "# Calculate the period from current date to target date\n",
    "period_to_target = (target_date_naive - current_date_naive).days\n",
    "\n",
    "# Perform Monte Carlo simulation for the target date using both high and low predictors\n",
    "num_simulations = 500\n",
    "\n",
    "# Perform Monte Carlo simulation for each date up to the target date\n",
    "simulation_df = monte_carlo_simulation_for_range(\n",
    "    df, predictor_low, target_column_low, context_length, prediction_length, current_date, target_date, mean_low, std_dev_low, num_simulations=num_simulations\n",
    ")"
   ]
  },
  {
   "cell_type": "code",
   "execution_count": 5,
   "id": "c3a27d08-78e0-430c-bd1c-3bff794ce8ea",
   "metadata": {},
   "outputs": [],
   "source": [
    "simulation_df.set_index('Date', inplace=True)"
   ]
  },
  {
   "cell_type": "code",
   "execution_count": 6,
   "id": "b02ad301-2063-43c2-a2ba-e606ca6ffbda",
   "metadata": {},
   "outputs": [
    {
     "data": {
      "text/plain": [
       "11.165583584187635"
      ]
     },
     "execution_count": 6,
     "metadata": {},
     "output_type": "execute_result"
    }
   ],
   "source": [
    "min_share_price = simulation_df['95% CI Low'].min() / 6989\n",
    "min_share_price"
   ]
  },
  {
   "cell_type": "code",
   "execution_count": 20,
   "id": "6233db71-1b17-4ebd-9bc5-1a21cf93cdec",
   "metadata": {},
   "outputs": [
    {
     "name": "stdout",
     "output_type": "stream",
     "text": [
      "Laplace Mean: 13.498270144355292, Scale Parameter b: 0.7241502318121736\n",
      "Skewness: 0.4378230526323005, Kurtosis: 2.1580100415319077\n"
     ]
    },
    {
     "data": {
      "image/png": "[encoded data removed]",
      "text/plain": [
       "<Figure size 1000x600 with 1 Axes>"
      ]
     },
     "metadata": {},
     "output_type": "display_data"
    }
   ],
   "source": [
    "import numpy as np\n",
    "import scipy.stats as stats\n",
    "import matplotlib.pyplot as plt\n",
    "\n",
    "btcc_div = 6989\n",
    "target_price = 13 # Adjusted target price\n",
    "\n",
    "# Extract and adjust the mean simulated prices\n",
    "sim_mean = simulation_df['Mean'] / btcc_div\n",
    "sim_low = simulation_df['95% CI Low'] / btcc_div\n",
    "sim_high = simulation_df['95% CI High'] / btcc_div\n",
    "\n",
    "# Calculate parameters for the Laplace distribution\n",
    "median = np.median(sim_mean)\n",
    "mad = np.median(np.abs(sim_mean - median))\n",
    "laplace_b = mad / np.log(2)\n",
    "laplace_mean = np.mean(sim_mean)\n",
    "\n",
    "# Calculate skewness and kurtosis\n",
    "skewness = stats.skew(sim_mean)\n",
    "kurtosis = stats.kurtosis(sim_mean, fisher=False)  # Set fisher=False for traditional kurtosis\n",
    "\n",
    "# Display the calculated parameters\n",
    "print(f\"Laplace Mean: {laplace_mean}, Scale Parameter b: {laplace_b}\")\n",
    "print(f\"Skewness: {skewness}, Kurtosis: {kurtosis}\")\n",
    "\n",
    "# Calculate the probability density at the adjusted target price\n",
    "probability_density = stats.laplace.pdf(target_price, loc=laplace_mean, scale=laplace_b)\n",
    "\n",
    "# Plotting the probability distribution\n",
    "x = np.linspace(min(sim_low), max(sim_high), 1000)\n",
    "pdf = stats.laplace.pdf(x, loc=laplace_mean, scale=laplace_b)\n",
    "\n",
    "plt.figure(figsize=(10, 6))\n",
    "plt.plot(x, pdf, label='Laplace PDF')\n",
    "plt.axvline(x=target_price, color='r', linestyle='--', label=f'Target Price: {target_price:.2f}')\n",
    "plt.title('Laplace Distribution of Adjusted Simulated Prices')\n",
    "plt.xlabel('Price')\n",
    "plt.ylabel('Probability Density')\n",
    "plt.legend()\n",
    "plt.grid(True)\n",
    "plt.show()\n"
   ]
  },
  {
   "cell_type": "code",
   "execution_count": 21,
   "id": "389415e6-98ec-4f1b-8c53-8c1000ffcb25",
   "metadata": {},
   "outputs": [
    {
     "name": "stdout",
     "output_type": "stream",
     "text": [
      "Probability of dropping to or below the target price of 13: 25.13%\n"
     ]
    }
   ],
   "source": [
    "# Calculate the probability of the price dropping to the target level or lower\n",
    "cumulative_probability = stats.laplace.cdf(target_price, loc=laplace_mean, scale=laplace_b)\n",
    "probability_percentage = cumulative_probability * 100  # Convert to percentage\n",
    "print(f\"Probability of dropping to or below the target price of {target_price}: {probability_percentage:.2f}%\")\n"
   ]
  }
 ],
 "metadata": {
  "kernelspec": {
   "display_name": "Python 3 (ipykernel)",
   "language": "python",
   "name": "python3"
  },
  "language_info": {
   "codemirror_mode": {
    "name": "ipython",
    "version": 3
   },
   "file_extension": ".py",
   "mimetype": "text/x-python",
   "name": "python",
   "nbconvert_exporter": "python",
   "pygments_lexer": "ipython3",
   "version": "3.12.2"
  }
 },
 "nbformat": 4,
 "nbformat_minor": 5
}
